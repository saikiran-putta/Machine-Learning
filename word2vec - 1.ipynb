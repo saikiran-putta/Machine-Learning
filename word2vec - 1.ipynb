{
 "cells": [
  {
   "cell_type": "code",
   "execution_count": 1,
   "id": "e5ed7dc9",
   "metadata": {},
   "outputs": [
    {
     "name": "stdout",
     "output_type": "stream",
     "text": [
      "Requirement already satisfied: gensim in c:\\users\\dell\\downloads\\anaconda\\lib\\site-packages (4.3.0)\n",
      "Requirement already satisfied: numpy>=1.18.5 in c:\\users\\dell\\downloads\\anaconda\\lib\\site-packages (from gensim) (1.24.3)\n",
      "Requirement already satisfied: scipy>=1.7.0 in c:\\users\\dell\\downloads\\anaconda\\lib\\site-packages (from gensim) (1.10.1)\n",
      "Requirement already satisfied: smart-open>=1.8.1 in c:\\users\\dell\\downloads\\anaconda\\lib\\site-packages (from gensim) (5.2.1)\n",
      "Collecting FuzzyTM>=0.4.0 (from gensim)\n",
      "  Obtaining dependency information for FuzzyTM>=0.4.0 from https://files.pythonhosted.org/packages/2d/30/074bac7a25866a2807c1005c7852c0139ac22ba837871fc01f16df29b9dc/FuzzyTM-2.0.9-py3-none-any.whl.metadata\n",
      "  Downloading FuzzyTM-2.0.9-py3-none-any.whl.metadata (7.9 kB)\n",
      "Requirement already satisfied: pandas in c:\\users\\dell\\downloads\\anaconda\\lib\\site-packages (from FuzzyTM>=0.4.0->gensim) (1.5.3)\n",
      "Collecting pyfume (from FuzzyTM>=0.4.0->gensim)\n",
      "  Obtaining dependency information for pyfume from https://files.pythonhosted.org/packages/ed/ea/a3b120e251145dcdb10777f2bc5f18b1496fd999d705a178c1b0ad947ce1/pyFUME-0.3.4-py3-none-any.whl.metadata\n",
      "  Downloading pyFUME-0.3.4-py3-none-any.whl.metadata (9.7 kB)\n",
      "Requirement already satisfied: python-dateutil>=2.8.1 in c:\\users\\dell\\downloads\\anaconda\\lib\\site-packages (from pandas->FuzzyTM>=0.4.0->gensim) (2.8.2)\n",
      "Requirement already satisfied: pytz>=2020.1 in c:\\users\\dell\\downloads\\anaconda\\lib\\site-packages (from pandas->FuzzyTM>=0.4.0->gensim) (2022.7)\n",
      "Collecting numpy>=1.18.5 (from gensim)\n",
      "  Obtaining dependency information for numpy>=1.18.5 from https://files.pythonhosted.org/packages/d8/ec/ebef2f7d7c28503f958f0f8b992e7ce606fb74f9e891199329d5f5f87404/numpy-1.24.4-cp311-cp311-win_amd64.whl.metadata\n",
      "  Downloading numpy-1.24.4-cp311-cp311-win_amd64.whl.metadata (5.6 kB)\n",
      "Collecting simpful==2.12.0 (from pyfume->FuzzyTM>=0.4.0->gensim)\n",
      "  Obtaining dependency information for simpful==2.12.0 from https://files.pythonhosted.org/packages/9d/0e/aebc2fb0b0f481994179b2ee2b8e6bbf0894d971594688c018375e7076ea/simpful-2.12.0-py3-none-any.whl.metadata\n",
      "  Downloading simpful-2.12.0-py3-none-any.whl.metadata (4.8 kB)\n",
      "Collecting fst-pso==1.8.1 (from pyfume->FuzzyTM>=0.4.0->gensim)\n",
      "  Downloading fst-pso-1.8.1.tar.gz (18 kB)\n",
      "  Preparing metadata (setup.py): started\n",
      "  Preparing metadata (setup.py): finished with status 'done'\n",
      "Collecting miniful (from fst-pso==1.8.1->pyfume->FuzzyTM>=0.4.0->gensim)\n",
      "  Downloading miniful-0.0.6.tar.gz (2.8 kB)\n",
      "  Preparing metadata (setup.py): started\n",
      "  Preparing metadata (setup.py): finished with status 'done'\n",
      "Requirement already satisfied: six>=1.5 in c:\\users\\dell\\downloads\\anaconda\\lib\\site-packages (from python-dateutil>=2.8.1->pandas->FuzzyTM>=0.4.0->gensim) (1.16.0)\n",
      "Downloading FuzzyTM-2.0.9-py3-none-any.whl (31 kB)\n",
      "Downloading pyFUME-0.3.4-py3-none-any.whl (60 kB)\n",
      "   ---------------------------------------- 0.0/60.3 kB ? eta -:--:--\n",
      "   ---------------------------------------- 60.3/60.3 kB 3.1 MB/s eta 0:00:00\n",
      "Downloading numpy-1.24.4-cp311-cp311-win_amd64.whl (14.8 MB)\n",
      "   ---------------------------------------- 0.0/14.8 MB ? eta -:--:--\n",
      "    --------------------------------------- 0.2/14.8 MB 5.9 MB/s eta 0:00:03\n",
      "   - -------------------------------------- 0.4/14.8 MB 4.6 MB/s eta 0:00:04\n",
      "   - -------------------------------------- 0.7/14.8 MB 5.2 MB/s eta 0:00:03\n",
      "   -- ------------------------------------- 1.0/14.8 MB 5.5 MB/s eta 0:00:03\n",
      "   --- ------------------------------------ 1.3/14.8 MB 5.9 MB/s eta 0:00:03\n",
      "   ---- ----------------------------------- 1.5/14.8 MB 5.3 MB/s eta 0:00:03\n",
      "   ---- ----------------------------------- 1.7/14.8 MB 5.1 MB/s eta 0:00:03\n",
      "   ---- ----------------------------------- 1.8/14.8 MB 5.1 MB/s eta 0:00:03\n",
      "   ----- ---------------------------------- 2.0/14.8 MB 4.8 MB/s eta 0:00:03\n",
      "   ----- ---------------------------------- 2.2/14.8 MB 4.8 MB/s eta 0:00:03\n",
      "   ------ --------------------------------- 2.4/14.8 MB 4.8 MB/s eta 0:00:03\n",
      "   ------ --------------------------------- 2.5/14.8 MB 4.6 MB/s eta 0:00:03\n",
      "   ------- -------------------------------- 2.7/14.8 MB 4.6 MB/s eta 0:00:03\n",
      "   ------- -------------------------------- 2.9/14.8 MB 4.5 MB/s eta 0:00:03\n",
      "   -------- ------------------------------- 3.1/14.8 MB 4.5 MB/s eta 0:00:03\n",
      "   -------- ------------------------------- 3.3/14.8 MB 4.4 MB/s eta 0:00:03\n",
      "   --------- ------------------------------ 3.5/14.8 MB 4.4 MB/s eta 0:00:03\n",
      "   --------- ------------------------------ 3.6/14.8 MB 4.4 MB/s eta 0:00:03\n",
      "   ---------- ----------------------------- 3.8/14.8 MB 4.4 MB/s eta 0:00:03\n",
      "   ---------- ----------------------------- 4.0/14.8 MB 4.3 MB/s eta 0:00:03\n",
      "   ----------- ---------------------------- 4.2/14.8 MB 4.3 MB/s eta 0:00:03\n",
      "   ----------- ---------------------------- 4.4/14.8 MB 4.3 MB/s eta 0:00:03\n",
      "   ------------ --------------------------- 4.5/14.8 MB 4.3 MB/s eta 0:00:03\n",
      "   ------------ --------------------------- 4.7/14.8 MB 4.3 MB/s eta 0:00:03\n",
      "   ------------- -------------------------- 4.9/14.8 MB 4.2 MB/s eta 0:00:03\n",
      "   ------------- -------------------------- 5.1/14.8 MB 4.2 MB/s eta 0:00:03\n",
      "   -------------- ------------------------- 5.3/14.8 MB 4.2 MB/s eta 0:00:03\n",
      "   -------------- ------------------------- 5.5/14.8 MB 4.2 MB/s eta 0:00:03\n",
      "   --------------- ------------------------ 5.7/14.8 MB 4.2 MB/s eta 0:00:03\n",
      "   --------------- ------------------------ 5.8/14.8 MB 4.2 MB/s eta 0:00:03\n",
      "   ---------------- ----------------------- 6.0/14.8 MB 4.2 MB/s eta 0:00:03\n",
      "   ---------------- ----------------------- 6.2/14.8 MB 4.2 MB/s eta 0:00:03\n",
      "   ----------------- ---------------------- 6.4/14.8 MB 4.2 MB/s eta 0:00:03\n",
      "   ----------------- ---------------------- 6.6/14.8 MB 4.2 MB/s eta 0:00:02\n",
      "   ------------------ --------------------- 6.7/14.8 MB 4.1 MB/s eta 0:00:02\n",
      "   ------------------ --------------------- 6.9/14.8 MB 4.1 MB/s eta 0:00:02\n",
      "   ------------------- -------------------- 7.1/14.8 MB 4.1 MB/s eta 0:00:02\n",
      "   ------------------- -------------------- 7.3/14.8 MB 4.1 MB/s eta 0:00:02\n",
      "   -------------------- ------------------- 7.5/14.8 MB 4.1 MB/s eta 0:00:02\n",
      "   -------------------- ------------------- 7.7/14.8 MB 4.1 MB/s eta 0:00:02\n",
      "   --------------------- ------------------ 7.9/14.8 MB 4.1 MB/s eta 0:00:02\n",
      "   --------------------- ------------------ 8.0/14.8 MB 4.1 MB/s eta 0:00:02\n",
      "   --------------------- ------------------ 8.1/14.8 MB 4.1 MB/s eta 0:00:02\n",
      "   --------------------- ------------------ 8.1/14.8 MB 4.1 MB/s eta 0:00:02\n",
      "   --------------------- ------------------ 8.1/14.8 MB 4.1 MB/s eta 0:00:02\n",
      "   ----------------------- ---------------- 8.7/14.8 MB 4.1 MB/s eta 0:00:02\n",
      "   ------------------------ --------------- 8.9/14.8 MB 4.1 MB/s eta 0:00:02\n",
      "   ------------------------ --------------- 9.1/14.8 MB 4.1 MB/s eta 0:00:02\n",
      "   ------------------------- -------------- 9.3/14.8 MB 4.1 MB/s eta 0:00:02\n",
      "   ------------------------- -------------- 9.5/14.8 MB 4.1 MB/s eta 0:00:02\n",
      "   -------------------------- ------------- 9.6/14.8 MB 4.1 MB/s eta 0:00:02\n",
      "   -------------------------- ------------- 9.8/14.8 MB 4.1 MB/s eta 0:00:02\n",
      "   -------------------------- ------------- 10.0/14.8 MB 4.1 MB/s eta 0:00:02\n",
      "   --------------------------- ------------ 10.2/14.8 MB 4.1 MB/s eta 0:00:02\n",
      "   --------------------------- ------------ 10.3/14.8 MB 4.0 MB/s eta 0:00:02\n",
      "   ---------------------------- ----------- 10.5/14.8 MB 4.0 MB/s eta 0:00:02\n",
      "   ---------------------------- ----------- 10.7/14.8 MB 4.0 MB/s eta 0:00:02\n",
      "   ----------------------------- ---------- 10.9/14.8 MB 4.0 MB/s eta 0:00:01\n",
      "   ----------------------------- ---------- 11.1/14.8 MB 4.0 MB/s eta 0:00:01\n",
      "   ------------------------------ --------- 11.3/14.8 MB 3.9 MB/s eta 0:00:01\n",
      "   ------------------------------ --------- 11.4/14.8 MB 3.9 MB/s eta 0:00:01\n",
      "   ------------------------------- -------- 11.6/14.8 MB 3.9 MB/s eta 0:00:01\n",
      "   ------------------------------- -------- 11.8/14.8 MB 3.9 MB/s eta 0:00:01\n",
      "   -------------------------------- ------- 12.0/14.8 MB 3.9 MB/s eta 0:00:01\n",
      "   -------------------------------- ------- 12.2/14.8 MB 3.9 MB/s eta 0:00:01\n",
      "   --------------------------------- ------ 12.3/14.8 MB 3.9 MB/s eta 0:00:01\n",
      "   --------------------------------- ------ 12.5/14.8 MB 3.9 MB/s eta 0:00:01\n",
      "   ---------------------------------- ----- 12.7/14.8 MB 3.9 MB/s eta 0:00:01\n",
      "   ---------------------------------- ----- 12.9/14.8 MB 3.9 MB/s eta 0:00:01\n",
      "   ----------------------------------- ---- 13.1/14.8 MB 3.9 MB/s eta 0:00:01\n",
      "   ----------------------------------- ---- 13.3/14.8 MB 3.9 MB/s eta 0:00:01\n",
      "   ------------------------------------ --- 13.4/14.8 MB 3.9 MB/s eta 0:00:01\n",
      "   ------------------------------------ --- 13.6/14.8 MB 3.9 MB/s eta 0:00:01\n",
      "   ------------------------------------- -- 13.8/14.8 MB 3.9 MB/s eta 0:00:01\n",
      "   ------------------------------------- -- 14.0/14.8 MB 3.9 MB/s eta 0:00:01\n",
      "   -------------------------------------- - 14.2/14.8 MB 3.9 MB/s eta 0:00:01\n",
      "   -------------------------------------- - 14.3/14.8 MB 3.9 MB/s eta 0:00:01\n",
      "   ---------------------------------------  14.5/14.8 MB 3.9 MB/s eta 0:00:01\n",
      "   ---------------------------------------  14.7/14.8 MB 3.9 MB/s eta 0:00:01\n",
      "   ---------------------------------------  14.8/14.8 MB 3.9 MB/s eta 0:00:01\n",
      "   ---------------------------------------- 14.8/14.8 MB 3.8 MB/s eta 0:00:00\n",
      "Downloading simpful-2.12.0-py3-none-any.whl (24 kB)\n",
      "Building wheels for collected packages: fst-pso, miniful\n",
      "  Building wheel for fst-pso (setup.py): started\n",
      "  Building wheel for fst-pso (setup.py): finished with status 'done'\n",
      "  Created wheel for fst-pso: filename=fst_pso-1.8.1-py3-none-any.whl size=20448 sha256=1cb4ce0bc26598f18209f6fe98444f9dd81409fd7e47dc2c7fac988b0e84f2bf\n",
      "  Stored in directory: c:\\users\\dell\\appdata\\local\\pip\\cache\\wheels\\69\\f5\\e5\\18ad53fe1ed6b2af9fad05ec052e4acbac8e92441df44bad2e\n",
      "  Building wheel for miniful (setup.py): started\n",
      "  Building wheel for miniful (setup.py): finished with status 'done'\n",
      "  Created wheel for miniful: filename=miniful-0.0.6-py3-none-any.whl size=3522 sha256=ed8954d70aeca35a7a26c2bc6d5e92d6e2e6ae95051256818ede130a9c3aad51\n",
      "  Stored in directory: c:\\users\\dell\\appdata\\local\\pip\\cache\\wheels\\9d\\ff\\2f\\afe4cd56f47de147407705626517d68bea0f3b74eb1fb168e6\n",
      "Successfully built fst-pso miniful\n",
      "Installing collected packages: numpy, simpful, miniful, fst-pso, pyfume, FuzzyTM\n",
      "  Attempting uninstall: numpy\n",
      "    Found existing installation: numpy 1.24.3\n",
      "    Uninstalling numpy-1.24.3:\n",
      "      Successfully uninstalled numpy-1.24.3\n"
     ]
    },
    {
     "name": "stderr",
     "output_type": "stream",
     "text": [
      "ERROR: Could not install packages due to an OSError: [WinError 5] Access is denied: 'C:\\\\Users\\\\Dell\\\\Downloads\\\\anaconda\\\\Lib\\\\site-packages\\\\~umpy\\\\core\\\\_multiarray_tests.cp311-win_amd64.pyd'\n",
      "Consider using the `--user` option or check the permissions.\n",
      "\n"
     ]
    },
    {
     "name": "stdout",
     "output_type": "stream",
     "text": [
      "Collecting python-Levenshtein\n",
      "  Obtaining dependency information for python-Levenshtein from https://files.pythonhosted.org/packages/72/8e/559c539e76bc0b1defec3da39a047fe151258efc9b215bf41db41e2c7922/python_Levenshtein-0.25.1-py3-none-any.whl.metadata\n",
      "  Downloading python_Levenshtein-0.25.1-py3-none-any.whl.metadata (3.7 kB)\n",
      "Collecting Levenshtein==0.25.1 (from python-Levenshtein)\n",
      "  Obtaining dependency information for Levenshtein==0.25.1 from https://files.pythonhosted.org/packages/47/19/4528246e25bb79fa8d4adae6640251c613f05eb310d79307d1ac53c7bf28/Levenshtein-0.25.1-cp311-cp311-win_amd64.whl.metadata\n",
      "  Downloading Levenshtein-0.25.1-cp311-cp311-win_amd64.whl.metadata (3.4 kB)\n",
      "Collecting rapidfuzz<4.0.0,>=3.8.0 (from Levenshtein==0.25.1->python-Levenshtein)\n",
      "  Obtaining dependency information for rapidfuzz<4.0.0,>=3.8.0 from https://files.pythonhosted.org/packages/01/55/9aad2563ba629cc03228b97c0abe286a61fbfeb8c8e80202313914d722d1/rapidfuzz-3.9.0-cp311-cp311-win_amd64.whl.metadata\n",
      "  Downloading rapidfuzz-3.9.0-cp311-cp311-win_amd64.whl.metadata (11 kB)\n",
      "Downloading python_Levenshtein-0.25.1-py3-none-any.whl (9.4 kB)\n",
      "Downloading Levenshtein-0.25.1-cp311-cp311-win_amd64.whl (98 kB)\n",
      "   ---------------------------------------- 0.0/98.4 kB ? eta -:--:--\n",
      "   ------------------------------------- -- 92.2/98.4 kB 2.6 MB/s eta 0:00:01\n",
      "   ---------------------------------------- 98.4/98.4 kB 1.9 MB/s eta 0:00:00\n",
      "Downloading rapidfuzz-3.9.0-cp311-cp311-win_amd64.whl (1.7 MB)\n",
      "   ---------------------------------------- 0.0/1.7 MB ? eta -:--:--\n",
      "   ----------- ---------------------------- 0.5/1.7 MB 9.8 MB/s eta 0:00:01\n",
      "   ------------------ --------------------- 0.7/1.7 MB 9.5 MB/s eta 0:00:01\n",
      "   ---------------------- ----------------- 0.9/1.7 MB 6.6 MB/s eta 0:00:01\n",
      "   -------------------------- ------------- 1.1/1.7 MB 6.2 MB/s eta 0:00:01\n",
      "   -------------------------- ------------- 1.1/1.7 MB 6.2 MB/s eta 0:00:01\n",
      "   -------------------------- ------------- 1.1/1.7 MB 6.2 MB/s eta 0:00:01\n",
      "   ---------------------------------------  1.6/1.7 MB 5.2 MB/s eta 0:00:01\n",
      "   ---------------------------------------- 1.7/1.7 MB 5.0 MB/s eta 0:00:00\n",
      "Installing collected packages: rapidfuzz, Levenshtein, python-Levenshtein\n",
      "Successfully installed Levenshtein-0.25.1 python-Levenshtein-0.25.1 rapidfuzz-3.9.0\n"
     ]
    }
   ],
   "source": [
    "!pip install gensim\n",
    "!pip install python-Levenshtein"
   ]
  },
  {
   "cell_type": "code",
   "execution_count": 2,
   "id": "e8cc2cd5",
   "metadata": {},
   "outputs": [],
   "source": [
    "import gensim\n",
    "import pandas as pd"
   ]
  },
  {
   "cell_type": "code",
   "execution_count": 3,
   "id": "ba22d8b6",
   "metadata": {},
   "outputs": [
    {
     "data": {
      "text/html": [
       "<div>\n",
       "<style scoped>\n",
       "    .dataframe tbody tr th:only-of-type {\n",
       "        vertical-align: middle;\n",
       "    }\n",
       "\n",
       "    .dataframe tbody tr th {\n",
       "        vertical-align: top;\n",
       "    }\n",
       "\n",
       "    .dataframe thead th {\n",
       "        text-align: right;\n",
       "    }\n",
       "</style>\n",
       "<table border=\"1\" class=\"dataframe\">\n",
       "  <thead>\n",
       "    <tr style=\"text-align: right;\">\n",
       "      <th></th>\n",
       "      <th>reviewerID</th>\n",
       "      <th>asin</th>\n",
       "      <th>reviewerName</th>\n",
       "      <th>helpful</th>\n",
       "      <th>reviewText</th>\n",
       "      <th>overall</th>\n",
       "      <th>summary</th>\n",
       "      <th>unixReviewTime</th>\n",
       "      <th>reviewTime</th>\n",
       "    </tr>\n",
       "  </thead>\n",
       "  <tbody>\n",
       "    <tr>\n",
       "      <th>0</th>\n",
       "      <td>A30TL5EWN6DFXT</td>\n",
       "      <td>120401325X</td>\n",
       "      <td>christina</td>\n",
       "      <td>[0, 0]</td>\n",
       "      <td>They look good and stick good! I just don't li...</td>\n",
       "      <td>4</td>\n",
       "      <td>Looks Good</td>\n",
       "      <td>1400630400</td>\n",
       "      <td>05 21, 2014</td>\n",
       "    </tr>\n",
       "    <tr>\n",
       "      <th>1</th>\n",
       "      <td>ASY55RVNIL0UD</td>\n",
       "      <td>120401325X</td>\n",
       "      <td>emily l.</td>\n",
       "      <td>[0, 0]</td>\n",
       "      <td>These stickers work like the review says they ...</td>\n",
       "      <td>5</td>\n",
       "      <td>Really great product.</td>\n",
       "      <td>1389657600</td>\n",
       "      <td>01 14, 2014</td>\n",
       "    </tr>\n",
       "    <tr>\n",
       "      <th>2</th>\n",
       "      <td>A2TMXE2AFO7ONB</td>\n",
       "      <td>120401325X</td>\n",
       "      <td>Erica</td>\n",
       "      <td>[0, 0]</td>\n",
       "      <td>These are awesome and make my phone look so st...</td>\n",
       "      <td>5</td>\n",
       "      <td>LOVE LOVE LOVE</td>\n",
       "      <td>1403740800</td>\n",
       "      <td>06 26, 2014</td>\n",
       "    </tr>\n",
       "    <tr>\n",
       "      <th>3</th>\n",
       "      <td>AWJ0WZQYMYFQ4</td>\n",
       "      <td>120401325X</td>\n",
       "      <td>JM</td>\n",
       "      <td>[4, 4]</td>\n",
       "      <td>Item arrived in great time and was in perfect ...</td>\n",
       "      <td>4</td>\n",
       "      <td>Cute!</td>\n",
       "      <td>1382313600</td>\n",
       "      <td>10 21, 2013</td>\n",
       "    </tr>\n",
       "    <tr>\n",
       "      <th>4</th>\n",
       "      <td>ATX7CZYFXI1KW</td>\n",
       "      <td>120401325X</td>\n",
       "      <td>patrice m rogoza</td>\n",
       "      <td>[2, 3]</td>\n",
       "      <td>awesome! stays on, and looks great. can be use...</td>\n",
       "      <td>5</td>\n",
       "      <td>leopard home button sticker for iphone 4s</td>\n",
       "      <td>1359849600</td>\n",
       "      <td>02 3, 2013</td>\n",
       "    </tr>\n",
       "    <tr>\n",
       "      <th>...</th>\n",
       "      <td>...</td>\n",
       "      <td>...</td>\n",
       "      <td>...</td>\n",
       "      <td>...</td>\n",
       "      <td>...</td>\n",
       "      <td>...</td>\n",
       "      <td>...</td>\n",
       "      <td>...</td>\n",
       "      <td>...</td>\n",
       "    </tr>\n",
       "    <tr>\n",
       "      <th>194434</th>\n",
       "      <td>A1YMNTFLNDYQ1F</td>\n",
       "      <td>B00LORXVUE</td>\n",
       "      <td>eyeused2loveher</td>\n",
       "      <td>[0, 0]</td>\n",
       "      <td>Works great just like my original one. I reall...</td>\n",
       "      <td>5</td>\n",
       "      <td>This works just perfect!</td>\n",
       "      <td>1405900800</td>\n",
       "      <td>07 21, 2014</td>\n",
       "    </tr>\n",
       "    <tr>\n",
       "      <th>194435</th>\n",
       "      <td>A15TX8B2L8B20S</td>\n",
       "      <td>B00LORXVUE</td>\n",
       "      <td>Jon Davidson</td>\n",
       "      <td>[0, 0]</td>\n",
       "      <td>Great product. Great packaging. High quality a...</td>\n",
       "      <td>5</td>\n",
       "      <td>Great replacement cable. Apple certified</td>\n",
       "      <td>1405900800</td>\n",
       "      <td>07 21, 2014</td>\n",
       "    </tr>\n",
       "    <tr>\n",
       "      <th>194436</th>\n",
       "      <td>A3JI7QRZO1QG8X</td>\n",
       "      <td>B00LORXVUE</td>\n",
       "      <td>Joyce M. Davidson</td>\n",
       "      <td>[0, 0]</td>\n",
       "      <td>This is a great cable, just as good as the mor...</td>\n",
       "      <td>5</td>\n",
       "      <td>Real quality</td>\n",
       "      <td>1405900800</td>\n",
       "      <td>07 21, 2014</td>\n",
       "    </tr>\n",
       "    <tr>\n",
       "      <th>194437</th>\n",
       "      <td>A1NHB2VC68YQNM</td>\n",
       "      <td>B00LORXVUE</td>\n",
       "      <td>Nurse Farrugia</td>\n",
       "      <td>[0, 0]</td>\n",
       "      <td>I really like it becasue it works well with my...</td>\n",
       "      <td>5</td>\n",
       "      <td>I really like it becasue it works well with my...</td>\n",
       "      <td>1405814400</td>\n",
       "      <td>07 20, 2014</td>\n",
       "    </tr>\n",
       "    <tr>\n",
       "      <th>194438</th>\n",
       "      <td>A1AG6U022WHXBF</td>\n",
       "      <td>B00LORXVUE</td>\n",
       "      <td>Trisha Crocker</td>\n",
       "      <td>[0, 0]</td>\n",
       "      <td>product as described, I have wasted a lot of m...</td>\n",
       "      <td>5</td>\n",
       "      <td>I have wasted a lot of money on cords</td>\n",
       "      <td>1405900800</td>\n",
       "      <td>07 21, 2014</td>\n",
       "    </tr>\n",
       "  </tbody>\n",
       "</table>\n",
       "<p>194439 rows × 9 columns</p>\n",
       "</div>"
      ],
      "text/plain": [
       "            reviewerID        asin       reviewerName helpful  \\\n",
       "0       A30TL5EWN6DFXT  120401325X          christina  [0, 0]   \n",
       "1        ASY55RVNIL0UD  120401325X           emily l.  [0, 0]   \n",
       "2       A2TMXE2AFO7ONB  120401325X              Erica  [0, 0]   \n",
       "3        AWJ0WZQYMYFQ4  120401325X                 JM  [4, 4]   \n",
       "4        ATX7CZYFXI1KW  120401325X   patrice m rogoza  [2, 3]   \n",
       "...                ...         ...                ...     ...   \n",
       "194434  A1YMNTFLNDYQ1F  B00LORXVUE    eyeused2loveher  [0, 0]   \n",
       "194435  A15TX8B2L8B20S  B00LORXVUE       Jon Davidson  [0, 0]   \n",
       "194436  A3JI7QRZO1QG8X  B00LORXVUE  Joyce M. Davidson  [0, 0]   \n",
       "194437  A1NHB2VC68YQNM  B00LORXVUE     Nurse Farrugia  [0, 0]   \n",
       "194438  A1AG6U022WHXBF  B00LORXVUE     Trisha Crocker  [0, 0]   \n",
       "\n",
       "                                               reviewText  overall  \\\n",
       "0       They look good and stick good! I just don't li...        4   \n",
       "1       These stickers work like the review says they ...        5   \n",
       "2       These are awesome and make my phone look so st...        5   \n",
       "3       Item arrived in great time and was in perfect ...        4   \n",
       "4       awesome! stays on, and looks great. can be use...        5   \n",
       "...                                                   ...      ...   \n",
       "194434  Works great just like my original one. I reall...        5   \n",
       "194435  Great product. Great packaging. High quality a...        5   \n",
       "194436  This is a great cable, just as good as the mor...        5   \n",
       "194437  I really like it becasue it works well with my...        5   \n",
       "194438  product as described, I have wasted a lot of m...        5   \n",
       "\n",
       "                                                  summary  unixReviewTime  \\\n",
       "0                                              Looks Good      1400630400   \n",
       "1                                   Really great product.      1389657600   \n",
       "2                                          LOVE LOVE LOVE      1403740800   \n",
       "3                                                   Cute!      1382313600   \n",
       "4               leopard home button sticker for iphone 4s      1359849600   \n",
       "...                                                   ...             ...   \n",
       "194434                           This works just perfect!      1405900800   \n",
       "194435           Great replacement cable. Apple certified      1405900800   \n",
       "194436                                       Real quality      1405900800   \n",
       "194437  I really like it becasue it works well with my...      1405814400   \n",
       "194438              I have wasted a lot of money on cords      1405900800   \n",
       "\n",
       "         reviewTime  \n",
       "0       05 21, 2014  \n",
       "1       01 14, 2014  \n",
       "2       06 26, 2014  \n",
       "3       10 21, 2013  \n",
       "4        02 3, 2013  \n",
       "...             ...  \n",
       "194434  07 21, 2014  \n",
       "194435  07 21, 2014  \n",
       "194436  07 21, 2014  \n",
       "194437  07 20, 2014  \n",
       "194438  07 21, 2014  \n",
       "\n",
       "[194439 rows x 9 columns]"
      ]
     },
     "execution_count": 3,
     "metadata": {},
     "output_type": "execute_result"
    }
   ],
   "source": [
    "df = pd.read_json(\"Cell_Phones_and_Accessories_5.json\", lines=True)\n",
    "df"
   ]
  },
  {
   "cell_type": "code",
   "execution_count": 4,
   "id": "9e0de0ea",
   "metadata": {},
   "outputs": [
    {
     "data": {
      "text/plain": [
       "(194439, 9)"
      ]
     },
     "execution_count": 4,
     "metadata": {},
     "output_type": "execute_result"
    }
   ],
   "source": [
    "df.shape"
   ]
  },
  {
   "cell_type": "code",
   "execution_count": 5,
   "id": "a392683f",
   "metadata": {},
   "outputs": [],
   "source": [
    "review_text = df.reviewText.apply(gensim.utils.simple_preprocess)"
   ]
  },
  {
   "cell_type": "code",
   "execution_count": 6,
   "id": "feb321b1",
   "metadata": {},
   "outputs": [
    {
     "data": {
      "text/plain": [
       "0         [they, look, good, and, stick, good, just, don...\n",
       "1         [these, stickers, work, like, the, review, say...\n",
       "2         [these, are, awesome, and, make, my, phone, lo...\n",
       "3         [item, arrived, in, great, time, and, was, in,...\n",
       "4         [awesome, stays, on, and, looks, great, can, b...\n",
       "                                ...                        \n",
       "194434    [works, great, just, like, my, original, one, ...\n",
       "194435    [great, product, great, packaging, high, quali...\n",
       "194436    [this, is, great, cable, just, as, good, as, t...\n",
       "194437    [really, like, it, becasue, it, works, well, w...\n",
       "194438    [product, as, described, have, wasted, lot, of...\n",
       "Name: reviewText, Length: 194439, dtype: object"
      ]
     },
     "execution_count": 6,
     "metadata": {},
     "output_type": "execute_result"
    }
   ],
   "source": [
    "review_text"
   ]
  },
  {
   "cell_type": "code",
   "execution_count": 7,
   "id": "32c447b3",
   "metadata": {},
   "outputs": [
    {
     "data": {
      "text/plain": [
       "['they',\n",
       " 'look',\n",
       " 'good',\n",
       " 'and',\n",
       " 'stick',\n",
       " 'good',\n",
       " 'just',\n",
       " 'don',\n",
       " 'like',\n",
       " 'the',\n",
       " 'rounded',\n",
       " 'shape',\n",
       " 'because',\n",
       " 'was',\n",
       " 'always',\n",
       " 'bumping',\n",
       " 'it',\n",
       " 'and',\n",
       " 'siri',\n",
       " 'kept',\n",
       " 'popping',\n",
       " 'up',\n",
       " 'and',\n",
       " 'it',\n",
       " 'was',\n",
       " 'irritating',\n",
       " 'just',\n",
       " 'won',\n",
       " 'buy',\n",
       " 'product',\n",
       " 'like',\n",
       " 'this',\n",
       " 'again']"
      ]
     },
     "execution_count": 7,
     "metadata": {},
     "output_type": "execute_result"
    }
   ],
   "source": [
    "review_text.loc[0]"
   ]
  },
  {
   "cell_type": "code",
   "execution_count": 8,
   "id": "c3e02163",
   "metadata": {},
   "outputs": [
    {
     "data": {
      "text/plain": [
       "\"They look good and stick good! I just don't like the rounded shape because I was always bumping it and Siri kept popping up and it was irritating. I just won't buy a product like this again\""
      ]
     },
     "execution_count": 8,
     "metadata": {},
     "output_type": "execute_result"
    }
   ],
   "source": [
    "df.reviewText.loc[0]"
   ]
  },
  {
   "cell_type": "code",
   "execution_count": 9,
   "id": "dcab7d34",
   "metadata": {},
   "outputs": [],
   "source": [
    "model = gensim.models.Word2Vec(\n",
    "    window=10,\n",
    "    min_count=2,\n",
    "    workers=4,\n",
    ")"
   ]
  },
  {
   "cell_type": "code",
   "execution_count": 11,
   "id": "3180bfea",
   "metadata": {},
   "outputs": [],
   "source": [
    "model.build_vocab(review_text, progress_per=1000)"
   ]
  },
  {
   "cell_type": "code",
   "execution_count": 12,
   "id": "a2b69f78",
   "metadata": {},
   "outputs": [
    {
     "data": {
      "text/plain": [
       "(61507685, 83868975)"
      ]
     },
     "execution_count": 12,
     "metadata": {},
     "output_type": "execute_result"
    }
   ],
   "source": [
    "model.train(review_text, total_examples=model.corpus_count, epochs=model.epochs)"
   ]
  },
  {
   "cell_type": "code",
   "execution_count": 13,
   "id": "3ed8ee73",
   "metadata": {},
   "outputs": [],
   "source": [
    "model.save(\"./word2vec-amazon-cell-accessories-reviews-short.model\")"
   ]
  },
  {
   "cell_type": "code",
   "execution_count": 14,
   "id": "6bb734d1",
   "metadata": {},
   "outputs": [
    {
     "data": {
      "text/plain": [
       "[('terrible', 0.6702557802200317),\n",
       " ('shabby', 0.6088932156562805),\n",
       " ('good', 0.593684196472168),\n",
       " ('horrible', 0.5667967200279236),\n",
       " ('disappointing', 0.5350619554519653),\n",
       " ('awful', 0.5335509777069092),\n",
       " ('crappy', 0.5158149003982544),\n",
       " ('spectacular', 0.5057780146598816),\n",
       " ('poor', 0.498023122549057),\n",
       " ('okay', 0.49346959590911865)]"
      ]
     },
     "execution_count": 14,
     "metadata": {},
     "output_type": "execute_result"
    }
   ],
   "source": [
    "model.wv.most_similar(\"bad\")"
   ]
  },
  {
   "cell_type": "code",
   "execution_count": 15,
   "id": "838f3da8",
   "metadata": {},
   "outputs": [
    {
     "data": {
      "text/plain": [
       "0.51916486"
      ]
     },
     "execution_count": 15,
     "metadata": {},
     "output_type": "execute_result"
    }
   ],
   "source": [
    "model.wv.similarity(w1=\"cheap\", w2=\"inexpensive\")"
   ]
  },
  {
   "cell_type": "code",
   "execution_count": 16,
   "id": "56971777",
   "metadata": {},
   "outputs": [
    {
     "data": {
      "text/plain": [
       "0.77983654"
      ]
     },
     "execution_count": 16,
     "metadata": {},
     "output_type": "execute_result"
    }
   ],
   "source": [
    "model.wv.similarity(w1=\"great\", w2=\"good\")"
   ]
  },
  {
   "cell_type": "code",
   "execution_count": null,
   "id": "a73ce3e7",
   "metadata": {},
   "outputs": [],
   "source": []
  }
 ],
 "metadata": {
  "kernelspec": {
   "display_name": "Python 3 (ipykernel)",
   "language": "python",
   "name": "python3"
  },
  "language_info": {
   "codemirror_mode": {
    "name": "ipython",
    "version": 3
   },
   "file_extension": ".py",
   "mimetype": "text/x-python",
   "name": "python",
   "nbconvert_exporter": "python",
   "pygments_lexer": "ipython3",
   "version": "3.11.4"
  }
 },
 "nbformat": 4,
 "nbformat_minor": 5
}
